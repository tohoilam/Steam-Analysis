{
 "cells": [
  {
   "cell_type": "code",
   "execution_count": 24,
   "metadata": {},
   "outputs": [],
   "source": [
    "import sys\n",
    "assert sys.version_info >= (3, 5) # make sure we have Python 3.5+\n",
    "from pyspark.sql import SparkSession, functions, types\n",
    "\n",
    "import os"
   ]
  },
  {
   "cell_type": "code",
   "execution_count": 25,
   "metadata": {},
   "outputs": [],
   "source": [
    "spark = SparkSession.builder.appName('top10 game review').getOrCreate()\n",
    "spark.sparkContext.setLogLevel('WARN')\n",
    "sc = spark.sparkContext"
   ]
  },
  {
   "cell_type": "markdown",
   "metadata": {},
   "source": [
    "## Data Cleaning & Preparation"
   ]
  },
  {
   "cell_type": "markdown",
   "metadata": {},
   "source": [
    "    Read training dataset"
   ]
  },
  {
   "cell_type": "code",
   "execution_count": 26,
   "metadata": {},
   "outputs": [
    {
     "name": "stdout",
     "output_type": "stream",
     "text": [
      "+--------------------+--------------------+--------------------+---------------+--------------------+\n",
      "|              Review|   Translated_Review|      Cleaned_Review|Sentiment_Score|           Game_Name|\n",
      "+--------------------+--------------------+--------------------+---------------+--------------------+\n",
      "|It's full of bots...|It's full of bots...|s bots years grea...|              1|      Team Fortress2|\n",
      "|                 Yes|                 Yes|                 yes|              1|               GTA V|\n",
      "|             Moogus.|             Moogus.|              moogus|              1|      Team Fortress2|\n",
      "|the worst game i ...|the worst game i ...|worst game played...|              0|                RUST|\n",
      "|Pretty nice game....|Pretty nice game....|pretty nice game ...|              1|        Apex Legends|\n",
      "|It's about drive,...|It's about drive,...|     s drive s power|              1|        Apex Legends|\n",
      "|           best game|           best game|           best game|              1|                RUST|\n",
      "|damn give me my m...|damn give me my m...| damn money lmao f p|              0|PlayerUnknown's B...|\n",
      "|it is a fun time ...|it is a fun time ...|       fun time sink|              1|        Apex Legends|\n",
      "|Only 9 heroes. An...|Only 9 heroes. An...|heroes boring gam...|              0|  NARAKA: BLADEPOINT|\n",
      "|Completely retard...|Completely retard...|completely retard...|              0|        Apex Legends|\n",
      "|Huh I paid for this.|Huh I paid for this.|            huh paid|              1|Counter-Strike Gl...|\n",
      "|           good game|           good game|           good game|              1|                RUST|\n",
      "|Always a fun game...|Always a fun game...|       fun game play|              1|      Team Fortress2|\n",
      "|            love it.|            love it.|                love|              1|  NARAKA: BLADEPOINT|\n",
      "|Can't recommend b...|                NULL|                NULL|           NULL|                NULL|\n",
      "|UPDATE: I have fi...| copy that to you...|                NULL|           NULL|                NULL|\n",
      "|Once thats done r...|Can't recommend b...|                NULL|           NULL|                NULL|\n",
      "|UPDATE: I have fi...| copy that to you...|                NULL|           NULL|                NULL|\n",
      "|Once thats done r...|t recommend buyin...|                   0|           NULL|                NULL|\n",
      "+--------------------+--------------------+--------------------+---------------+--------------------+\n",
      "only showing top 20 rows\n",
      "\n"
     ]
    },
    {
     "name": "stderr",
     "output_type": "stream",
     "text": [
      "23/10/29 14:16:56 WARN CacheManager: Asked to cache already cached data.\n"
     ]
    }
   ],
   "source": [
    "game_reviews_schema = types.StructType([\n",
    "    types.StructField('Review', types.StringType()),\n",
    "    types.StructField('Translated_Review', types.StringType()),\n",
    "    types.StructField('Cleaned_Review', types.StringType()),\n",
    "    types.StructField('Sentiment_Score', types.IntegerType()),\n",
    "    types.StructField('Game_Name', types.StringType()),\n",
    "])\n",
    "game_reviews_train = spark.read.csv('../Top10_Game_Review/Train.csv', header=True, schema=game_reviews_schema).cache()\n",
    "game_reviews_train.show(20)"
   ]
  },
  {
   "cell_type": "markdown",
   "metadata": {},
   "source": [
    "    Read testing dataset"
   ]
  },
  {
   "cell_type": "code",
   "execution_count": 27,
   "metadata": {},
   "outputs": [
    {
     "name": "stdout",
     "output_type": "stream",
     "text": [
      "+--------------------+--------------------+--------------------+---------------+--------------------+\n",
      "|              Review|   Translated_Review|      Cleaned_Review|Sentiment_Score|           Game_Name|\n",
      "+--------------------+--------------------+--------------------+---------------+--------------------+\n",
      "|              peepee|               Pepee|               pepee|              1|        Apex Legends|\n",
      "|Painfully horrend...|Painfully horrend...|painfully horrend...|              0|PlayerUnknown's B...|\n",
      "|              its ok|              its ok|                  ok|              1|        Apex Legends|\n",
      "|           Nice game|           Nice game|           nice game|              1|      Team Fortress2|\n",
      "|they copied many ...|they copied many ...|copied things gmo...|              0|      Team Fortress2|\n",
      "|                 yes|                 yes|                 yes|              1|      Team Fortress2|\n",
      "|                  ツ|                 TSU|                 tsu|              1|                RUST|\n",
      "|               HTGDF|               HTGDF|               htgdf|              1|Counter-Strike Gl...|\n",
      "|                 yes|                 yes|                 yes|              1|               GTA V|\n",
      "|         titanfall 3|         Titanfall 3|           titanfall|              1|        Apex Legends|\n",
      "|                good|                good|                good|              1|        Apex Legends|\n",
      "|Love this hardcor...|Love this hardcor...|love hardcore yr ...|              1|                RUST|\n",
      "|This game is free...|                NULL|                NULL|           NULL|                NULL|\n",
      "|       -Apex Legends|                NULL|                NULL|           NULL|                NULL|\n",
      "|              -CS:GO|                NULL|                NULL|           NULL|                NULL|\n",
      "|      -Rogue Company|                NULL|                NULL|           NULL|                NULL|\n",
      "|      -Halo Infinite|                NULL|                NULL|           NULL|                NULL|\n",
      "|             -Dota 2|                NULL|                NULL|           NULL|                NULL|\n",
      "|    -Dota Underlords|                NULL|                NULL|           NULL|                NULL|\n",
      "|           -VALORANT|                NULL|                NULL|           NULL|                NULL|\n",
      "+--------------------+--------------------+--------------------+---------------+--------------------+\n",
      "only showing top 20 rows\n",
      "\n"
     ]
    },
    {
     "name": "stderr",
     "output_type": "stream",
     "text": [
      "23/10/29 14:16:56 WARN CacheManager: Asked to cache already cached data.\n"
     ]
    }
   ],
   "source": [
    "game_reviews_test = spark.read.csv('../Top10_Game_Review/Test.csv', header=True, schema=game_reviews_schema).cache()\n",
    "game_reviews_test.show(20)"
   ]
  },
  {
   "cell_type": "markdown",
   "metadata": {},
   "source": [
    "    Drop rows with NULL value"
   ]
  },
  {
   "cell_type": "code",
   "execution_count": 28,
   "metadata": {},
   "outputs": [
    {
     "name": "stdout",
     "output_type": "stream",
     "text": [
      "+--------------------+--------------------+--------------------+---------------+--------------------+\n",
      "|              Review|   Translated_Review|      Cleaned_Review|Sentiment_Score|           Game_Name|\n",
      "+--------------------+--------------------+--------------------+---------------+--------------------+\n",
      "|It's full of bots...|It's full of bots...|s bots years grea...|              1|      Team Fortress2|\n",
      "|                 Yes|                 Yes|                 yes|              1|               GTA V|\n",
      "|             Moogus.|             Moogus.|              moogus|              1|      Team Fortress2|\n",
      "|the worst game i ...|the worst game i ...|worst game played...|              0|                RUST|\n",
      "|Pretty nice game....|Pretty nice game....|pretty nice game ...|              1|        Apex Legends|\n",
      "|It's about drive,...|It's about drive,...|     s drive s power|              1|        Apex Legends|\n",
      "|           best game|           best game|           best game|              1|                RUST|\n",
      "|damn give me my m...|damn give me my m...| damn money lmao f p|              0|PlayerUnknown's B...|\n",
      "|it is a fun time ...|it is a fun time ...|       fun time sink|              1|        Apex Legends|\n",
      "|Only 9 heroes. An...|Only 9 heroes. An...|heroes boring gam...|              0|  NARAKA: BLADEPOINT|\n",
      "|Completely retard...|Completely retard...|completely retard...|              0|        Apex Legends|\n",
      "|Huh I paid for this.|Huh I paid for this.|            huh paid|              1|Counter-Strike Gl...|\n",
      "|           good game|           good game|           good game|              1|                RUST|\n",
      "|Always a fun game...|Always a fun game...|       fun game play|              1|      Team Fortress2|\n",
      "|            love it.|            love it.|                love|              1|  NARAKA: BLADEPOINT|\n",
      "|                haha|                 Lol|                 lol|              1|PlayerUnknown's B...|\n",
      "|great game, fun w...|great game, fun w...|great game fun fr...|              1|Counter-Strike Gl...|\n",
      "|           good game|           good game|           good game|              1|Counter-Strike Gl...|\n",
      "|Died 18 times bef...|Died 18 times bef...|died times reachi...|              1|                RUST|\n",
      "|Great game all round|Great game all round|    great game round|              1|                RUST|\n",
      "+--------------------+--------------------+--------------------+---------------+--------------------+\n",
      "only showing top 20 rows\n",
      "\n"
     ]
    }
   ],
   "source": [
    "train_no_null = game_reviews_train.dropna()\n",
    "train_no_null.show(20)"
   ]
  },
  {
   "cell_type": "code",
   "execution_count": 29,
   "metadata": {},
   "outputs": [
    {
     "name": "stdout",
     "output_type": "stream",
     "text": [
      "+--------------------+--------------------+--------------------+---------------+--------------------+\n",
      "|              Review|   Translated_Review|      Cleaned_Review|Sentiment_Score|           Game_Name|\n",
      "+--------------------+--------------------+--------------------+---------------+--------------------+\n",
      "|              peepee|               Pepee|               pepee|              1|        Apex Legends|\n",
      "|Painfully horrend...|Painfully horrend...|painfully horrend...|              0|PlayerUnknown's B...|\n",
      "|              its ok|              its ok|                  ok|              1|        Apex Legends|\n",
      "|           Nice game|           Nice game|           nice game|              1|      Team Fortress2|\n",
      "|they copied many ...|they copied many ...|copied things gmo...|              0|      Team Fortress2|\n",
      "|                 yes|                 yes|                 yes|              1|      Team Fortress2|\n",
      "|                  ツ|                 TSU|                 tsu|              1|                RUST|\n",
      "|               HTGDF|               HTGDF|               htgdf|              1|Counter-Strike Gl...|\n",
      "|                 yes|                 yes|                 yes|              1|               GTA V|\n",
      "|         titanfall 3|         Titanfall 3|           titanfall|              1|        Apex Legends|\n",
      "|                good|                good|                good|              1|        Apex Legends|\n",
      "|Love this hardcor...|Love this hardcor...|love hardcore yr ...|              1|                RUST|\n",
      "|                 fun|                 fun|                 fun|              1|        Apex Legends|\n",
      "|great game old bu...|great game old bu...| great game old good|              1|      Team Fortress2|\n",
      "|Really good game ...|Really good game ...|good game awesome...|              1|PlayerUnknown's B...|\n",
      "|            Good idk|            Good idk|            good idk|              1|PlayerUnknown's B...|\n",
      "|My beginning in A...|My beginning in A...|beginning apex ro...|              1|        Apex Legends|\n",
      "|    THIS GAME IS FUN|    THIS GAME IS FUN|            game fun|              1|      Team Fortress2|\n",
      "|I got false banne...|I got false banne...|got false banned ...|              0|Counter-Strike Gl...|\n",
      "|                cool|                cool|                cool|              1|        Apex Legends|\n",
      "+--------------------+--------------------+--------------------+---------------+--------------------+\n",
      "only showing top 20 rows\n",
      "\n"
     ]
    }
   ],
   "source": [
    "test_no_null = game_reviews_test.dropna()\n",
    "test_no_null.show(20)"
   ]
  },
  {
   "cell_type": "markdown",
   "metadata": {},
   "source": [
    "    Check if two datasets containing any other missing values"
   ]
  },
  {
   "cell_type": "code",
   "execution_count": 30,
   "metadata": {},
   "outputs": [
    {
     "name": "stdout",
     "output_type": "stream",
     "text": [
      "----------Summary of game_review_train dataset----------\n",
      "Good! There is NO missing value\n",
      " \n",
      "----------Summary of game_review_test dataset------------\n",
      "Good! There is NO missing value\n"
     ]
    }
   ],
   "source": [
    "def is_contain_none(df):\n",
    "  for col in df.columns:\n",
    "    null_df = df.filter((functions.col(col) == \"null\") | (functions.col(col) == \"NULL\"))\n",
    "    if (null_df.isEmpty()) == False:\n",
    "      nan_percent = null_df.count()/df.count()\n",
    "      print(f'Column \"{col}\" CONTAINS {nan_percent:.2%} null values')\n",
    "  print(\"Good! There is NO missing value\")\n",
    "\n",
    "print(\"----------Summary of game_review_train dataset----------\")\n",
    "is_contain_none(game_reviews_train)\n",
    "print(\" \") \n",
    "print(\"----------Summary of game_review_test dataset------------\")\n",
    "is_contain_none(game_reviews_test) "
   ]
  },
  {
   "cell_type": "markdown",
   "metadata": {},
   "source": [
    "    Drop some columns"
   ]
  },
  {
   "cell_type": "code",
   "execution_count": 34,
   "metadata": {},
   "outputs": [
    {
     "name": "stdout",
     "output_type": "stream",
     "text": [
      "+--------------------+---------------+--------------------+\n",
      "|              Review|Sentiment_Score|           Game_Name|\n",
      "+--------------------+---------------+--------------------+\n",
      "|It's full of bots...|              1|      Team Fortress2|\n",
      "|                 Yes|              1|               GTA V|\n",
      "|             Moogus.|              1|      Team Fortress2|\n",
      "|the worst game i ...|              0|                RUST|\n",
      "|Pretty nice game....|              1|        Apex Legends|\n",
      "|It's about drive,...|              1|        Apex Legends|\n",
      "|           best game|              1|                RUST|\n",
      "|damn give me my m...|              0|PlayerUnknown's B...|\n",
      "|it is a fun time ...|              1|        Apex Legends|\n",
      "|Only 9 heroes. An...|              0|  NARAKA: BLADEPOINT|\n",
      "+--------------------+---------------+--------------------+\n",
      "only showing top 10 rows\n",
      "\n",
      "+--------------------+---------------+--------------------+\n",
      "|              Review|Sentiment_Score|           Game_Name|\n",
      "+--------------------+---------------+--------------------+\n",
      "|              peepee|              1|        Apex Legends|\n",
      "|Painfully horrend...|              0|PlayerUnknown's B...|\n",
      "|              its ok|              1|        Apex Legends|\n",
      "|           Nice game|              1|      Team Fortress2|\n",
      "|they copied many ...|              0|      Team Fortress2|\n",
      "|                 yes|              1|      Team Fortress2|\n",
      "|                  ツ|              1|                RUST|\n",
      "|               HTGDF|              1|Counter-Strike Gl...|\n",
      "|                 yes|              1|               GTA V|\n",
      "|         titanfall 3|              1|        Apex Legends|\n",
      "+--------------------+---------------+--------------------+\n",
      "only showing top 10 rows\n",
      "\n"
     ]
    }
   ],
   "source": [
    "clean_review_train = train_no_null.drop(\"Translated_Review\",\"Cleaned_Review\").cache()\n",
    "clean_review_test = test_no_null.drop(\"Translated_Review\",\"Cleaned_Review\").cache()\n",
    "\n",
    "clean_review_train.show(10)\n",
    "clean_review_test.show(10)"
   ]
  },
  {
   "cell_type": "markdown",
   "metadata": {},
   "source": [
    "    Add a column for Game_Name that is ready for join"
   ]
  },
  {
   "cell_type": "code",
   "execution_count": 45,
   "metadata": {},
   "outputs": [],
   "source": [
    "pattern = \"[\\\\p{Punct}\\\\s]+\"\n",
    "clean_review_train = clean_review_train.withColumn(\"Clean_Game_Name\", \n",
    "                                                functions.lower(functions.regexp_replace(clean_review_train[\"Game_Name\"], pattern, \"\"))).cache()\n",
    "\n",
    "clean_review_test = clean_review_test.withColumn(\"Clean_Game_Name\", \n",
    "                                                functions.lower(functions.regexp_replace(clean_review_test[\"Game_Name\"], pattern, \"\"))).cache()"
   ]
  },
  {
   "cell_type": "markdown",
   "metadata": {},
   "source": [
    "    Translate game review to English through \"googletrans\" library\n",
    "        pip install googletrans==4.0.0-rc1"
   ]
  },
  {
   "cell_type": "code",
   "execution_count": 53,
   "metadata": {},
   "outputs": [],
   "source": [
    "# RUN this to import translator\n",
    "from googletrans import Translator\n",
    "\n",
    "@functions.udf(returnType=types.StringType())\n",
    "def translate_to_english(text):\n",
    "    translator = Translator()\n",
    "    try:\n",
    "        return translator.translate(text, src='auto', dest='en').text\n",
    "    except:\n",
    "        return None  # Return None if translation fails\n",
    "clean_review_train = clean_review_train.withColumn(\"Translated_Review\", translate_to_english(clean_review_train[\"Review\"])).dropna()\n",
    "clean_review_test = clean_review_test.withColumn(\"Translated_Review\", translate_to_english(clean_review_test[\"Review\"])).dropna()"
   ]
  },
  {
   "cell_type": "markdown",
   "metadata": {},
   "source": [
    "# Combine train and test datasets"
   ]
  },
  {
   "cell_type": "code",
   "execution_count": 56,
   "metadata": {},
   "outputs": [
    {
     "name": "stderr",
     "output_type": "stream",
     "text": [
      "23/10/29 14:47:45 WARN CacheManager: Asked to cache already cached data.\n"
     ]
    },
    {
     "name": "stderr",
     "output_type": "stream",
     "text": [
      "[Stage 178:>  (0 + 7) / 8][Stage 179:>  (0 + 0) / 8][Stage 180:>  (0 + 0) / 6]\r"
     ]
    }
   ],
   "source": [
    "# print(f'The number of records in clean_review_train are {str(clean_review_train.count())}')\n",
    "# print(f'The number of records in clean_review_test are {str(clean_review_test.count())}')\n",
    "\n",
    "all_game_reviews = clean_review_train.union(clean_review_test).cache()\n",
    "# print(\"-----------------------------------------------------------------------------------\")\n",
    "#print(f'The number of records in all_game_reviews are {str(all_game_reviews.count())}')"
   ]
  },
  {
   "cell_type": "markdown",
   "metadata": {},
   "source": [
    "Exploratory Data Analysis"
   ]
  },
  {
   "cell_type": "code",
   "execution_count": null,
   "metadata": {},
   "outputs": [],
   "source": []
  }
 ],
 "metadata": {
  "kernelspec": {
   "display_name": "Python 3",
   "language": "python",
   "name": "python3"
  },
  "language_info": {
   "codemirror_mode": {
    "name": "ipython",
    "version": 3
   },
   "file_extension": ".py",
   "mimetype": "text/x-python",
   "name": "python",
   "nbconvert_exporter": "python",
   "pygments_lexer": "ipython3",
   "version": "3.10.12"
  }
 },
 "nbformat": 4,
 "nbformat_minor": 2
}
