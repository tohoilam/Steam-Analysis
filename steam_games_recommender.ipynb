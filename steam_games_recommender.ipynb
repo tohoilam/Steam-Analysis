{
 "cells": [
  {
   "cell_type": "markdown",
   "id": "a263e479-201e-4053-911d-306c537164d3",
   "metadata": {},
   "source": [
    "## Steam Game Review Analysis"
   ]
  },
  {
   "cell_type": "code",
   "execution_count": 1,
   "id": "37e5898f-0a65-4a73-afac-3c8cd90c6b63",
   "metadata": {},
   "outputs": [],
   "source": [
    "from pyspark.sql import SparkSession, functions, types, Row\n",
    "import pandas as pd\n",
    "import matplotlib.pyplot as plt\n",
    "import seaborn as sns\n",
    "import re\n",
    "from sklearn.feature_extraction.text import TfidfVectorizer\n",
    "from sklearn.metrics.pairwise import cosine_similarity\n",
    "import pickle\n",
    "import parquet"
   ]
  },
  {
   "cell_type": "code",
   "execution_count": 2,
   "id": "e8979994-51b1-46fb-96b7-d977410bbaf7",
   "metadata": {},
   "outputs": [
    {
     "name": "stderr",
     "output_type": "stream",
     "text": [
      "Setting default log level to \"WARN\".\n",
      "To adjust logging level use sc.setLogLevel(newLevel). For SparkR, use setLogLevel(newLevel).\n",
      "23/11/30 19:33:56 WARN NativeCodeLoader: Unable to load native-hadoop library for your platform... using builtin-java classes where applicable\n",
      "23/11/30 19:33:57 WARN Utils: Service 'SparkUI' could not bind on port 4040. Attempting port 4041.\n"
     ]
    }
   ],
   "source": [
    "spark = SparkSession.builder.appName('Steam Games Analysis').getOrCreate()\n",
    "sc = spark.sparkContext"
   ]
  },
  {
   "attachments": {},
   "cell_type": "markdown",
   "id": "57a9162b",
   "metadata": {},
   "source": [
    "## Steam Game Content-Based Recommender"
   ]
  },
  {
   "cell_type": "code",
   "execution_count": 4,
   "id": "edcf170b",
   "metadata": {},
   "outputs": [],
   "source": [
    "# pip install pyarrow\n",
    "# pip install parquet"
   ]
  },
  {
   "cell_type": "code",
   "execution_count": 5,
   "id": "470f7b3e",
   "metadata": {},
   "outputs": [],
   "source": [
    "df_recommend = pd.read_parquet('cleaned_steam_games', engine='pyarrow')"
   ]
  },
  {
   "cell_type": "code",
   "execution_count": 6,
   "id": "e766cc3c",
   "metadata": {},
   "outputs": [],
   "source": [
    "df_rec = df_recommend[['name', 'desc_snippet', 'popular_tags', 'developers', 'game_description']].fillna('')\n",
    "df_rec[\"developers\"] = df_rec[\"developers\"].apply(lambda x: \" \".join(map(str, x)))\n",
    "df_rec['popular_tags'] = df_rec['popular_tags'].str.replace(',', ' ')\n"
   ]
  },
  {
   "cell_type": "markdown",
   "id": "16247515",
   "metadata": {},
   "source": []
  },
  {
   "cell_type": "code",
   "execution_count": 7,
   "id": "4a0e96d8",
   "metadata": {},
   "outputs": [
    {
     "data": {
      "text/html": [
       "<div>\n",
       "<style scoped>\n",
       "    .dataframe tbody tr th:only-of-type {\n",
       "        vertical-align: middle;\n",
       "    }\n",
       "\n",
       "    .dataframe tbody tr th {\n",
       "        vertical-align: top;\n",
       "    }\n",
       "\n",
       "    .dataframe thead th {\n",
       "        text-align: right;\n",
       "    }\n",
       "</style>\n",
       "<table border=\"1\" class=\"dataframe\">\n",
       "  <thead>\n",
       "    <tr style=\"text-align: right;\">\n",
       "      <th></th>\n",
       "      <th>name</th>\n",
       "      <th>desc_snippet</th>\n",
       "      <th>popular_tags</th>\n",
       "      <th>developers</th>\n",
       "      <th>game_description</th>\n",
       "    </tr>\n",
       "  </thead>\n",
       "  <tbody>\n",
       "    <tr>\n",
       "      <th>0</th>\n",
       "      <td>World War 3</td>\n",
       "      <td>World War 3 is a multiplayer military FPS set ...</td>\n",
       "      <td>Early Access FPS Military War Multiplayer Earl...</td>\n",
       "      <td>The Farm 51</td>\n",
       "      <td>About This Game World War 3 is a multiplayer ...</td>\n",
       "    </tr>\n",
       "    <tr>\n",
       "      <th>1</th>\n",
       "      <td>Knight Online</td>\n",
       "      <td>The Great Battle between Karus and El Morad ha...</td>\n",
       "      <td>Free to Play MMORPG Massively Multiplayer Acti...</td>\n",
       "      <td>Noah System Mgame</td>\n",
       "      <td>About This Game Knight Online is a PvP-centri...</td>\n",
       "    </tr>\n",
       "    <tr>\n",
       "      <th>2</th>\n",
       "      <td>Super Mega Baseball 2</td>\n",
       "      <td>The critically acclaimed Super Mega Baseball s...</td>\n",
       "      <td>Sports Simulation Baseball Indie Local Multipl...</td>\n",
       "      <td>Metalhead Software Inc.</td>\n",
       "      <td>About This Game The critically acclaimed Supe...</td>\n",
       "    </tr>\n",
       "    <tr>\n",
       "      <th>3</th>\n",
       "      <td>Plague Inc: Evolved</td>\n",
       "      <td>Plague Inc: Evolved is a unique mix of high st...</td>\n",
       "      <td>Strategy Simulation Indie Singleplayer Multipl...</td>\n",
       "      <td>Ndemic Creations</td>\n",
       "      <td>About This Game  Plague Inc: Evolved is a uni...</td>\n",
       "    </tr>\n",
       "    <tr>\n",
       "      <th>4</th>\n",
       "      <td>DEFCON</td>\n",
       "      <td>Inspired by the 1983 cult classic film, Wargam...</td>\n",
       "      <td>Strategy Indie Wargame Multiplayer Cold War Re...</td>\n",
       "      <td>Introversion Software</td>\n",
       "      <td>About This Game Inspired by the 1983 cult cla...</td>\n",
       "    </tr>\n",
       "  </tbody>\n",
       "</table>\n",
       "</div>"
      ],
      "text/plain": [
       "                    name                                       desc_snippet  \\\n",
       "0            World War 3  World War 3 is a multiplayer military FPS set ...   \n",
       "1          Knight Online  The Great Battle between Karus and El Morad ha...   \n",
       "2  Super Mega Baseball 2  The critically acclaimed Super Mega Baseball s...   \n",
       "3    Plague Inc: Evolved  Plague Inc: Evolved is a unique mix of high st...   \n",
       "4                 DEFCON  Inspired by the 1983 cult classic film, Wargam...   \n",
       "\n",
       "                                        popular_tags               developers  \\\n",
       "0  Early Access FPS Military War Multiplayer Earl...              The Farm 51   \n",
       "1  Free to Play MMORPG Massively Multiplayer Acti...        Noah System Mgame   \n",
       "2  Sports Simulation Baseball Indie Local Multipl...  Metalhead Software Inc.   \n",
       "3  Strategy Simulation Indie Singleplayer Multipl...         Ndemic Creations   \n",
       "4  Strategy Indie Wargame Multiplayer Cold War Re...    Introversion Software   \n",
       "\n",
       "                                    game_description  \n",
       "0   About This Game World War 3 is a multiplayer ...  \n",
       "1   About This Game Knight Online is a PvP-centri...  \n",
       "2   About This Game The critically acclaimed Supe...  \n",
       "3   About This Game  Plague Inc: Evolved is a uni...  \n",
       "4   About This Game Inspired by the 1983 cult cla...  "
      ]
     },
     "execution_count": 7,
     "metadata": {},
     "output_type": "execute_result"
    }
   ],
   "source": [
    "df_rec.head()"
   ]
  },
  {
   "cell_type": "code",
   "execution_count": 8,
   "id": "6727d5d2",
   "metadata": {},
   "outputs": [],
   "source": [
    "# combine features\n",
    "def combined_features(row):\n",
    "    return row['desc_snippet']+\" \"+row['game_description']+\" \"+row['popular_tags']+\" \"+row['developers']\n",
    "\n",
    "df_rec['combined_features'] = df_rec.apply(combined_features,axis = 1)"
   ]
  },
  {
   "cell_type": "code",
   "execution_count": 9,
   "id": "60d5d84c",
   "metadata": {},
   "outputs": [],
   "source": [
    "# transforms raw text into a numerical representation of the importance of each word\n",
    "\n",
    "# cleaning stop words and get frequency and importance of words in combined text\n",
    "tfidf = TfidfVectorizer(stop_words='english')\n",
    "tfidf_matrix = tfidf.fit_transform(df_rec['combined_features'])"
   ]
  },
  {
   "cell_type": "code",
   "execution_count": null,
   "id": "eee72252",
   "metadata": {},
   "outputs": [],
   "source": [
    "# Cosine Similarity Matrix\n",
    "# similarity b/w two texts based on their TF-IDF feature vectors\n",
    "cosine_sim = cosine_similarity(tfidf_matrix)"
   ]
  },
  {
   "cell_type": "code",
   "execution_count": null,
   "id": "6c48e1c2",
   "metadata": {},
   "outputs": [],
   "source": [
    "pickle.dump(cosine_sim,open('cosine_sim.pkl','wb'))"
   ]
  },
  {
   "cell_type": "code",
   "execution_count": null,
   "id": "4f8da576",
   "metadata": {},
   "outputs": [],
   "source": [
    "def get_index_from(title):\n",
    "    return df_rec[df_rec.name == title].index.values[0]"
   ]
  },
  {
   "cell_type": "code",
   "execution_count": null,
   "id": "c9e57af1",
   "metadata": {},
   "outputs": [],
   "source": [
    "def get_title_from_index(index):\n",
    "    return df_rec[df_rec.index == index][\"name\"].values[0]"
   ]
  },
  {
   "cell_type": "code",
   "execution_count": null,
   "id": "c30c61e9",
   "metadata": {},
   "outputs": [],
   "source": [
    "def steam_game_recommender(title, cosine_sim, dataframe):\n",
    "    game_index = get_index_from(title)\n",
    "\n",
    "    # generate similar games matrix\n",
    "    similar_games = list(enumerate(cosine_sim[game_index]))\n",
    "\n",
    "    # Sorting the similar games in descending order\n",
    "    sorted_similar_games = sorted(similar_games, key = lambda x:x[1], reverse = True)\n",
    "    \n",
    "    # Use integer-based indexing with iloc\n",
    "    # recommended_games = dataframe['name'].iloc[scores.index]\n",
    "\n",
    "    i=0\n",
    "    for games in sorted_similar_games:\n",
    "        if i != 0:\n",
    "            print(get_title_from_index(games[0]))\n",
    "        i = i+1\n",
    "        if i>5:\n",
    "            break\n",
    "    \n",
    "    # return recommended_games"
   ]
  }
 ],
 "metadata": {
  "kernelspec": {
   "display_name": "Python 3",
   "language": "python",
   "name": "python3"
  },
  "language_info": {
   "codemirror_mode": {
    "name": "ipython",
    "version": 3
   },
   "file_extension": ".py",
   "mimetype": "text/x-python",
   "name": "python",
   "nbconvert_exporter": "python",
   "pygments_lexer": "ipython3",
   "version": "3.10.0 (v3.10.0:b494f5935c, Oct  4 2021, 14:59:19) [Clang 12.0.5 (clang-1205.0.22.11)]"
  },
  "vscode": {
   "interpreter": {
    "hash": "aee8b7b246df8f9039afb4144a1f6fd8d2ca17a180786b69acc140d282b71a49"
   }
  }
 },
 "nbformat": 4,
 "nbformat_minor": 5
}
